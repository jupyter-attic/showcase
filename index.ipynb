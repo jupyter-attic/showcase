{
 "cells": [
  {
   "cell_type": "markdown",
   "metadata": {},
   "source": [
    "<div class=\"clearfix\" style=\"padding: 10px; padding-left: 0px\">\n",
    "<img src=\"https://raw.githubusercontent.com/jupyter/nature-demo/master/images/jupyter-logo.png\" width=\"150px\" style=\"display: inline-block; margin-top: 5px;\">\n",
    "</div>\n",
    "\n",
    "## Welcome\n",
    "\n",
    "This Notebook Server was **launched just for you** to try demos of projects from the Jupyter Incubation area. It's a temporary sandbox for you to evaluate new features that may one day land in Jupyter. Poke around and have fun, but please don't rely on this server for anything you want to last: your server will be *deleted after a period of inactivity*.\n",
    "\n",
    "### Declarative Widgets\n",
    "\n",
    "Take a quick tour in the [declarative widgets feature walkthrough](./declarativewidgets/demos/Walkthrough.ipynb). See how to apply declarative widgets to NYC taxi data in [the taxi tutorial](./declarativewidgets/demos/tour/index.ipynb). Then browse through [more detailed examples](./declarativewidgets/examples).\n",
    "\n",
    "View the [developer documentation](http://jupyter-incubator.github.io/declarativewidgets/) about the Polymer elements and behaviors provided by the declarative widgets.\n",
    "\n",
    "Visit the [jupyter-incubator/declarativewidgets GitHub repo](https://github.com/jupyter-incubator/declarativewidgets) for more information\n",
    "\n",
    "### Dynamic Dashboards\n",
    "\n",
    "See the [Introduction to Dashboards](./dashboards/index.ipynb) notebook which includes step-by-step instructions for using the dashboard features as well as numerous notebook-to-dashboard examples.\n",
    "\n",
    "Visit the [jupyter-incubator/dashboards GitHub repo](https://github.com/jupyter-incubator/dashboards) for more information\n",
    "\n",
    "### Content Management\n",
    "\n",
    "* [Cookbook Demo](./test_cookbooks.ipynb)\n",
    "\n",
    "Visit the [jupyter-incubator/contentmanagement GitHub repo](https://github.com/jupyter-incubator/contentmanagement) for more information"
   ]
  }
 ],
 "metadata": {
  "kernelspec": {
   "display_name": "Python 3",
   "language": "python",
   "name": "python3"
  },
  "language_info": {
   "codemirror_mode": {
    "name": "ipython",
    "version": 3
   },
   "file_extension": ".py",
   "mimetype": "text/x-python",
   "name": "python",
   "nbconvert_exporter": "python",
   "pygments_lexer": "ipython3",
   "version": "3.4.3"
  }
 },
 "nbformat": 4,
 "nbformat_minor": 0
}
